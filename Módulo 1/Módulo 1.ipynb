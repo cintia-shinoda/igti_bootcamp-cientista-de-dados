{
  "nbformat": 4,
  "nbformat_minor": 0,
  "metadata": {
    "colab": {
      "name": "Módulo 1.ipynb",
      "provenance": [],
      "collapsed_sections": [
        "AF7993QjClXW",
        "_XczxjL9Dr4H",
        "cWg-Z6J56e89"
      ]
    },
    "kernelspec": {
      "name": "ir",
      "display_name": "R"
    },
    "language_info": {
      "name": "R"
    }
  },
  "cells": [
    {
      "cell_type": "markdown",
      "metadata": {
        "id": "TCGskDWQBbnX"
      },
      "source": [
        "# Capítulo 1 - Introdução à Disciplina"
      ]
    },
    {
      "cell_type": "markdown",
      "metadata": {
        "id": "_SbC-YEoBfr4"
      },
      "source": [
        "## 1.1 - Introdução à Disciplina"
      ]
    },
    {
      "cell_type": "markdown",
      "metadata": {
        "id": "AF7993QjClXW"
      },
      "source": [
        "### Objetivos do curso"
      ]
    },
    {
      "cell_type": "markdown",
      "metadata": {
        "id": "rrvbgOEICsQz"
      },
      "source": [
        "ao final da disciplina, espera-se que o aluno consiga:\n",
        "- saber o que é a Estatística e sua importância para o profissional que lida com dados\n",
        "- realizar análise exploratória em bases de dados\n",
        "- entendimento sobre teoria das probabilidades e como aplicar no mundo real\n",
        "- propor hipóteses e buscar por evidências nos dados\n",
        "- construir modelos preditivos através de regressão linear"
      ]
    },
    {
      "cell_type": "markdown",
      "metadata": {
        "id": "_XczxjL9Dr4H"
      },
      "source": [
        "### O que é Estatística?"
      ]
    },
    {
      "cell_type": "markdown",
      "metadata": {
        "id": "eQIHS8duDx2v"
      },
      "source": [
        "- ramo das ciências exatas\n",
        "- visa obter conclusões à partir de dados\n",
        "- envolve técnicas para coletar, organizar, descrever, analisar e interpretar dados"
      ]
    },
    {
      "cell_type": "markdown",
      "metadata": {
        "id": "35xdcEc_ETCE"
      },
      "source": [
        "**Estatística Descritiva vs. Estatística Inferencial**\n",
        "\n",
        "\n"
      ]
    },
    {
      "cell_type": "markdown",
      "metadata": {
        "id": "TgdPCFrr01zQ"
      },
      "source": [
        "**estatística descritiva:** análise exploratória dos dados (média, mediana, desvio padrão...)\n",
        "\n",
        "**estatística inferencial:** estudo de amostras para inferir algo para a população"
      ]
    },
    {
      "cell_type": "markdown",
      "metadata": {
        "id": "mYKMusYQ6e0C"
      },
      "source": [
        "**Uso de métodos estatísticos:**\n",
        "- laboratórios\n",
        "- empresas"
      ]
    },
    {
      "cell_type": "markdown",
      "metadata": {
        "id": "cWg-Z6J56e89"
      },
      "source": [
        "### O que é Ciência de Dados?"
      ]
    },
    {
      "cell_type": "markdown",
      "metadata": {
        "id": "-NXfuj8M7XNk"
      },
      "source": [
        "- \"conjunto de métodos que cercam a extração do conhecimento a partir dos dados\"\n",
        "- área multidisciplinar: matemática e estatística, ciência da computação e negócios\n",
        "\n"
      ]
    },
    {
      "cell_type": "markdown",
      "metadata": {
        "id": "9zjSCDJ971P5"
      },
      "source": [
        "### Ciência de Dados vs Estatística"
      ]
    },
    {
      "cell_type": "markdown",
      "metadata": {
        "id": "qLp7_rug74VJ"
      },
      "source": [
        "**Estatística**\n",
        "-  foco em tirar conclusões de uma população à partir de uma amostra\n",
        "\n",
        "**Ciência de Dados**\n",
        "- foco em constuir modelos preditivos"
      ]
    },
    {
      "cell_type": "markdown",
      "metadata": {
        "id": "6FPr9jtB8sg9"
      },
      "source": [
        "## 1.2 - Medidas de Centralidade e Dispersão"
      ]
    },
    {
      "cell_type": "markdown",
      "metadata": {
        "id": "K9c_SxkT90Uk"
      },
      "source": [
        "Nesta aula:\n",
        "- Medidas de Centralidade: média aritmética e mediana\n",
        "- Medidas de Dispersão: variância, desvio padrão, coeficiente de variação, amplitude e quartis"
      ]
    },
    {
      "cell_type": "markdown",
      "metadata": {
        "id": "t88mRnar-Zal"
      },
      "source": [
        "medidas quantitativas para resumir e compreender o comportamento de uma variável\n",
        "\n",
        "operador sigma = somatório\n",
        "\n"
      ]
    },
    {
      "cell_type": "markdown",
      "metadata": {
        "id": "0VOA_1IR82uN"
      },
      "source": [
        "### Medidas de Centralidade e Dispersão"
      ]
    },
    {
      "cell_type": "markdown",
      "metadata": {
        "id": "pQX_m63K4hZ-"
      },
      "source": [
        "#### Média Aritmética\n"
      ]
    },
    {
      "cell_type": "markdown",
      "metadata": {
        "id": "89BqGU1c4mjl"
      },
      "source": [
        "- uma medida de centralidade\n",
        "- é a soma dos valores dividido pela quantidade de amostras.\n",
        "- o resultado equivale a um valor médio entre todos os valores\n",
        "\n",
        "$$\n",
        "\\overline{x}=\\frac{\\sum_{i=1}^{n}x_i}{n}\n",
        "$$\n",
        "\n",
        "- a média de toda a população: $\\mu$\n",
        "- média de uma amostra: $\\overline{x}$"
      ]
    },
    {
      "cell_type": "markdown",
      "metadata": {
        "id": "BOUPXcDhd8eh"
      },
      "source": [
        "#### Desvio Padrão"
      ]
    },
    {
      "cell_type": "markdown",
      "metadata": {
        "id": "O2oaocend-2S"
      },
      "source": [
        "- uma medida de dispersão\n",
        "- indica o quão longe os valores de uma variável estão do valor médio"
      ]
    },
    {
      "cell_type": "markdown",
      "metadata": {
        "id": "xuFJfbm9exIQ"
      },
      "source": [
        "- desvio padrão amostral: s\n",
        "$$s=\\sqrt{\\frac{\\sum_{i=1}^{n}(x_i-\\overline{x})^2}{n-1}}$$\n",
        "\n",
        "- desvio padrão populacional: $\\sigma$ (sigma)\n",
        "$$\\sigma=\\sqrt{\\frac{\\sum_{i=1}^{n}(x_i-\\overline{x})^2}{n}}$$"
      ]
    },
    {
      "cell_type": "markdown",
      "metadata": {
        "id": "OyqIph1slGVG"
      },
      "source": [
        "#### Coeficiente de Variação"
      ]
    },
    {
      "cell_type": "markdown",
      "metadata": {
        "id": "9xltLr04lJU2"
      },
      "source": [
        "- medida padronizada de dispersão\n",
        "- razão entre o desvio padrão e a média\n",
        "coeficiente de variação = $${s \\over \\overline{x}}*100$$"
      ]
    },
    {
      "cell_type": "markdown",
      "metadata": {
        "id": "UKnBaGoamoAc"
      },
      "source": [
        "#### Quartis"
      ]
    },
    {
      "cell_type": "markdown",
      "metadata": {
        "id": "HGvIkkJLmpiO"
      },
      "source": [
        "- valores que dividem a variável em 4 partes iguais\n",
        "- cada parte representa 25% da variável\n",
        "\n",
        "- para calcular os quartis, a variável deve estar ordenada em ordem crescente\n",
        "\n",
        "- **1o. quartil (Q1):** 25% dos dados estão abaixo dele\n",
        "$$(n * 0.25)$$\n",
        "- **2o. quartil (Q2):** a mediana (50% dos dados estão acima e 50% estão abaixo dele\n",
        "$$(n * 0.5)$$\n",
        "- **3o. quartil (Q3):** 75% dos dados estão abaixo do 3o. quartil\n",
        "$$(n * 0.75)$$"
      ]
    },
    {
      "cell_type": "markdown",
      "metadata": {
        "id": "3DQnM4zYpEmQ"
      },
      "source": [
        "#### Média vs. Mediana"
      ]
    },
    {
      "cell_type": "markdown",
      "metadata": {
        "id": "z1f0bc3ppYzP"
      },
      "source": [
        "- a MEDIANA é robusta a outliers"
      ]
    },
    {
      "cell_type": "markdown",
      "metadata": {
        "id": "sAuFJz6hpj1k"
      },
      "source": [
        "#### Amplitude"
      ]
    },
    {
      "cell_type": "markdown",
      "metadata": {
        "id": "13lN2qmXplzM"
      },
      "source": [
        "- é o intervalo entre o valor máximo e o valor mínimo"
      ]
    },
    {
      "cell_type": "markdown",
      "metadata": {
        "id": "lWv40MYDqHXQ"
      },
      "source": [
        "## 1.3 - Análise de Dados através de Gráficos"
      ]
    },
    {
      "cell_type": "markdown",
      "metadata": {
        "id": "A2ndawdOqRXG"
      },
      "source": [
        "Nesta aula:\n",
        "- Tipos de Variáveis\n",
        "- Histograma\n",
        "- Boxplot\n",
        "- Gráfico de Linhas\n",
        "- Gráfico de Dispersão\n",
        "- Gráfico de Setores"
      ]
    },
    {
      "cell_type": "markdown",
      "metadata": {
        "id": "dXKJp-8XE8NY"
      },
      "source": [
        "### Tipos de Variáveis"
      ]
    },
    {
      "cell_type": "markdown",
      "metadata": {
        "id": "ic-HdSPIFGUW"
      },
      "source": [
        "- **Qualitativas** (Categóricas)\n",
        "    - **Nominais:** não há hierarquia (exemplos: sexo, estado civil...)\n",
        "    - **Ordinais:** (exemplo: faixa etária)\n",
        "- **Quantitativas** \n",
        "    - **Discretas:** assume números inteiros (exemplo: número de filhos)\n",
        "    - **Contínuas:** assume números com casas decimais (exemplo: altura)"
      ]
    },
    {
      "cell_type": "markdown",
      "metadata": {
        "id": "3COyIrNkfUNP"
      },
      "source": [
        "### Histograma"
      ]
    },
    {
      "cell_type": "markdown",
      "metadata": {
        "id": "mC8sbp-kfYq6"
      },
      "source": [
        "- representação gráfica eem barras, dividida em classes\n",
        "- a altura de cada barra representa a frequência com que o valor da classe ocorre"
      ]
    },
    {
      "cell_type": "markdown",
      "metadata": {
        "id": "UXVQoUbpgN1s"
      },
      "source": [
        "### Boxplot"
      ]
    },
    {
      "cell_type": "markdown",
      "metadata": {
        "id": "guWcTK6DgSYJ"
      },
      "source": [
        "visualização de uma variável baseada em seus quartis\n",
        "\n",
        "- Limite Superior = Q3 + (1.5 * IQR)\n",
        "- 3o. Quartil (75%)\n",
        "- 2o. Quartil (50%) = Mediana\n",
        "- 1o. Quartil (25%)\n",
        "- Limite Inferior = Q1 - (1.5 * IQR)\n",
        "- IQR = Q3 - Q1  (intervalo interquartil)\n",
        "- Outliers"
      ]
    },
    {
      "cell_type": "markdown",
      "metadata": {
        "id": "bo3rFag0hwi_"
      },
      "source": [
        "relação entre uma variável qualitativa e uma quantitativa"
      ]
    },
    {
      "cell_type": "markdown",
      "metadata": {
        "id": "9p9vzEx5jKc0"
      },
      "source": [
        "visualização da distribuição de uma série temporal ao longo do tempo"
      ]
    },
    {
      "cell_type": "markdown",
      "metadata": {
        "id": "fOJ6km0CjnK7"
      },
      "source": [
        "### Gráfico de Linhas"
      ]
    },
    {
      "cell_type": "markdown",
      "metadata": {
        "id": "wa6jaahOjp5s"
      },
      "source": [
        "mostra a evolução de uma variável ao longo do tempo\n",
        "\n",
        "- tendências (crescente e decrescente)\n",
        "- sazonalidade"
      ]
    },
    {
      "cell_type": "markdown",
      "metadata": {
        "id": "CCJ5we1YkSB6"
      },
      "source": [
        "### Gráfico de Dispersão (Scatterplot)"
      ]
    },
    {
      "cell_type": "markdown",
      "metadata": {
        "id": "UTRoRBWfkWJN"
      },
      "source": [
        "utilizado para analisar a relação entre duas variáveis quantitativas\n",
        "\n",
        "- variável resposta: eixo y\n",
        "- variável explicativa: eixo x\n",
        "\n",
        "- relação linear positiva: x aumenta, y aumenta\n",
        "- relação linear negativa: x aumenta, y diminui\n",
        "- relação não-linear\n",
        "- sem relação (não há um padrão)"
      ]
    },
    {
      "cell_type": "markdown",
      "metadata": {
        "id": "jwZG7Q0Ckc4D"
      },
      "source": [
        "### Gráfico de Setores (\"Pizza\")"
      ]
    },
    {
      "cell_type": "markdown",
      "metadata": {
        "id": "mHeG8oVMl54w"
      },
      "source": [
        "exibe a proporção de cada nível categórico de uma variável"
      ]
    },
    {
      "cell_type": "markdown",
      "metadata": {
        "id": "VOUmGbpTmHoF"
      },
      "source": [
        "#### Cuidado:\n"
      ]
    },
    {
      "cell_type": "markdown",
      "metadata": {
        "id": "FsY5yqtqmYFl"
      },
      "source": [
        "- muitas categorias (uma opção seria histograma)"
      ]
    },
    {
      "cell_type": "markdown",
      "metadata": {
        "id": "xhGmvz64mtz4"
      },
      "source": [
        "## 1.4 - A ferramenta R"
      ]
    },
    {
      "cell_type": "markdown",
      "metadata": {
        "id": "2hrlDzbqnmMo"
      },
      "source": [
        "### Ferramentas e Linguagens para trabalhar com Estatística"
      ]
    },
    {
      "cell_type": "markdown",
      "metadata": {
        "id": "fST_xEfBnyW0"
      },
      "source": [
        "- Gratuitas:\n",
        "    - Scala\n",
        "    - R\n",
        "    - Java\n",
        "    - Julia\n",
        "    - Python\n",
        "- Pagas\n",
        "    - Minitab\n",
        "    - Stata\n",
        "    - SPSS\n",
        "    - Excel"
      ]
    },
    {
      "cell_type": "markdown",
      "metadata": {
        "id": "kx4Kk11EoYeT"
      },
      "source": [
        "### Linguagem R"
      ]
    },
    {
      "cell_type": "markdown",
      "metadata": {
        "id": "QEv-l5Onoc9b"
      },
      "source": [
        "- uma linguagem e também um ambiente de desenvolvimento integrado para cálculos estatísticos e gráficos\n",
        "- criada originalmente por Ross Ihaka e Robert Gentleman, no departamento de Estatística da Universidade de Auckland, Nova Zelândia\n",
        "- utilizado por profissionais em diversas áreas\n",
        "- é gratuito"
      ]
    },
    {
      "cell_type": "markdown",
      "metadata": {
        "id": "iMPua0zbpKNy"
      },
      "source": [
        "### RStudio"
      ]
    },
    {
      "cell_type": "markdown",
      "metadata": {
        "id": "v1Jw86xDpc61"
      },
      "source": [
        "### Principais tipos de Objetos no R"
      ]
    },
    {
      "cell_type": "markdown",
      "metadata": {
        "id": "fkBHEkYdpys_"
      },
      "source": [
        "- **Vetor:** 1 coluna\n",
        "- **Matriz:** mais de 1 coluna, mas todas do mesmo tipo\n",
        "- **Data Frame:** semelhante à matriz porém aceita tipos de dado\n",
        "- **Lista:** objeto para armazenar objeto"
      ]
    },
    {
      "cell_type": "markdown",
      "metadata": {
        "id": "ibb7vWtjqXNm"
      },
      "source": [
        "**Tipos de variáveis:**\n",
        "- **Numeric:** inteiro (int) oou decimal (float)\n",
        "- **Character:** texto (string)\n",
        "- **Date Time:** Data, hora\n",
        "- **Factor:** atribui codificação inteira ao dado (de categórica para binária)"
      ]
    },
    {
      "cell_type": "markdown",
      "metadata": {
        "id": "bfscb738rXCL"
      },
      "source": [
        "### Bibliotecas Relevantes no R"
      ]
    },
    {
      "cell_type": "markdown",
      "metadata": {
        "id": "QmX-BVbRra7I"
      },
      "source": [
        "#### Visualização de Dados"
      ]
    },
    {
      "cell_type": "markdown",
      "metadata": {
        "id": "rDVnPiX0reT5"
      },
      "source": [
        "- ggplot2\n",
        "- plotly"
      ]
    },
    {
      "cell_type": "markdown",
      "metadata": {
        "id": "tKYw6ecErio7"
      },
      "source": [
        "#### Machine Learning"
      ]
    },
    {
      "cell_type": "markdown",
      "metadata": {
        "id": "cqWdq_Karwcw"
      },
      "source": [
        "- Caret: mais de 180 algoritmos de Machine Learning\n",
        "- H2O (eficiente para trabalhar com grande quantidade de dados)"
      ]
    },
    {
      "cell_type": "markdown",
      "metadata": {
        "id": "b8ifnimzr0-4"
      },
      "source": [
        "#### Manipulação de Dados"
      ]
    },
    {
      "cell_type": "markdown",
      "metadata": {
        "id": "4IaIuDZ5sUgG"
      },
      "source": [
        "- dplyr (sintaxe similar a do SQL)\n",
        "- Data.table (robusta, usada para base de dados grande)"
      ]
    },
    {
      "cell_type": "markdown",
      "metadata": {
        "id": "HaFD9Z-vsyUP"
      },
      "source": [
        "## 1.5 - Análise de Dados Através de Gráficos"
      ]
    },
    {
      "cell_type": "markdown",
      "metadata": {
        "id": "UqHopOm25e_O"
      },
      "source": [
        "R Notebook: 1.5 - Análise de Dados através de Gráficos.Rmd"
      ]
    },
    {
      "cell_type": "markdown",
      "metadata": {
        "id": "5KnbpCCJ5nlm"
      },
      "source": [
        "# Capítulo 2 - Leis de Probabilidade e Diretrizes para sua Aplicação"
      ]
    },
    {
      "cell_type": "markdown",
      "metadata": {
        "id": "v_DMRn2J5vMQ"
      },
      "source": [
        "## 2.1 - Leis de Probabilidade e Diretrizes para sua Aplicação"
      ]
    },
    {
      "cell_type": "markdown",
      "metadata": {
        "id": "ju0veqhU6PGo"
      },
      "source": [
        "### Eventos Aleatórios"
      ]
    },
    {
      "cell_type": "markdown",
      "metadata": {
        "id": "_xLV-srd6RQF"
      },
      "source": [
        "experimento aleatório é aquele cujo resultado é incerto, embora se saiba quais são os resultados possíveis\n",
        "\n",
        "- com reposição\n",
        "- sem reposição"
      ]
    },
    {
      "cell_type": "markdown",
      "metadata": {
        "id": "sABNKAMq7nlM"
      },
      "source": [
        "- $P(sucesso) + P(fracasso) = P(1) + P(0) = 1$ = 100%\n",
        "- $P(fracasso) = 1 - P(sucesso)$"
      ]
    },
    {
      "cell_type": "markdown",
      "metadata": {
        "id": "28U4_afH8qKx"
      },
      "source": [
        "### Probabilidade Frequentista"
      ]
    },
    {
      "cell_type": "markdown",
      "metadata": {
        "id": "GsRPMZu98tAb"
      },
      "source": [
        "sendo A um evento aleatório qualquer, podemos encontrar a probabilidade de A\n",
        "\n",
        "$$P(A) = \\frac{\\text{Número de vezes que o evento A ocorreu}}{\\text{Número Total de Observações}}$$\n",
        "<br>\n",
        "\n",
        "$$P(sucesso) + P(fracasso) = P(1) + P(0) = 1$$\n",
        "<br>\n",
        "\n",
        "$$0 \\le P(A) \\le 1$$"
      ]
    },
    {
      "cell_type": "markdown",
      "metadata": {
        "id": "YeZy1Nvp_7lw"
      },
      "source": [
        "### Regra Aditiva"
      ]
    },
    {
      "cell_type": "markdown",
      "metadata": {
        "id": "CYp7yrts_9Xt"
      },
      "source": [
        "- operador **OU**\n",
        "- probabilidade de um ou outro evento aleatório ocorrer\n"
      ]
    },
    {
      "cell_type": "markdown",
      "metadata": {
        "id": "0vJ-11HAIZbg"
      },
      "source": [
        "- eventos **mutuamente exclusivos** (não podem ocorrer ao mesmo tempo)\n",
        "- exemplo: lançamento de moeda = cara OU coroa\n",
        "$$P(A) \\cap P(B) = \\emptyset \\\\\n",
        "P(A) \\ ou \\ P(B) = \\\\\n",
        "P(A) + P(B)\n",
        "$$"
      ]
    },
    {
      "cell_type": "markdown",
      "metadata": {
        "id": "hYc1ox9iIZEE"
      },
      "source": [
        "- eventos **não mutuamente exclusivos** (podem ocorrer ao mesmo tempo)\n",
        "$$\n",
        "P(A) + P(B) - P(A \\cap B)\n",
        "$$"
      ]
    },
    {
      "cell_type": "markdown",
      "metadata": {
        "id": "PPwmSfJZEJlX"
      },
      "source": [
        "### Regra Multiplicativa"
      ]
    },
    {
      "cell_type": "markdown",
      "metadata": {
        "id": "049ec78aEMiM"
      },
      "source": [
        "- operador **E**\n",
        "- probabilidade de um evento E outro evento aleatórios ocorrerem"
      ]
    },
    {
      "cell_type": "markdown",
      "metadata": {
        "id": "j2udygn2Il6d"
      },
      "source": [
        "- dois eventos são **INDEPENDENTES** quando um não altera a probabilidade de outro ocorrer\n",
        "\n",
        "$$\n",
        "P(A) \\ e \\ P(B) = \\\\\n",
        "P(A) * P(B)\n",
        "$$"
      ]
    },
    {
      "cell_type": "markdown",
      "metadata": {
        "id": "eUJzwzTuIltU"
      },
      "source": [
        "- dois eventos são **DEPENDENTES** quando um altera a probabilidade de outro ocorrer (probabilidade condicional)\n",
        "\n",
        "$$\n",
        "P(A | B) \\\\\n",
        "P(B) * P(A | B)\n",
        "$$\n",
        "\n",
        "(probabilidade de A, dado que probabilidade de B já ocorreu)"
      ]
    },
    {
      "cell_type": "markdown",
      "metadata": {
        "id": "jApqHWmxHRf2"
      },
      "source": [
        "Algoritmo Naive Bayes (Machine Learning)\n",
        "\n",
        "$$\n",
        "P(A|B) = \\frac{P(B|A) \\ P(A)}{P(B)}\n",
        "$$\n",
        "\n",
        "- classificação de e-mails em spam e não-spam"
      ]
    },
    {
      "cell_type": "markdown",
      "metadata": {
        "id": "u3Y2ztJnIycn"
      },
      "source": [
        "## 2.2 - Variáveis Aleatórias Discretas e Distribuições de Probabilidades Discretas"
      ]
    },
    {
      "cell_type": "markdown",
      "metadata": {
        "id": "qdYND_C2I75b"
      },
      "source": [
        "Nesta aula:\n",
        "- Variáveis Aleatórias Discretas\n",
        "- Distribuições Discretas"
      ]
    },
    {
      "cell_type": "markdown",
      "metadata": {
        "id": "BR3Z79mnTx8y"
      },
      "source": [
        "### Variáveis Aleatórias Discretas"
      ]
    },
    {
      "cell_type": "markdown",
      "metadata": {
        "id": "xEEnBymsT1lt"
      },
      "source": [
        "- assume um número infinito contável de valores (inteiros)\n",
        "\n",
        "- exemplos:\n",
        "    - quantidade de ligações por dia que um call center recebe\n",
        "    - quantidade de clientes por hora que entram em uma loja"
      ]
    },
    {
      "cell_type": "markdown",
      "metadata": {
        "id": "7HkJ49xQVpnw"
      },
      "source": [
        "### Distribuições Discretas"
      ]
    },
    {
      "cell_type": "markdown",
      "metadata": {
        "id": "Gi0UCxdyVCto"
      },
      "source": [
        "Experimento de Bernoulli - número de sucessos em 1 tentativa\n",
        "$$\n",
        "p(sucesso) = p(1) = p \\\\\n",
        "p(fracasso) = p(0) = 1 - p\n",
        "$$\n",
        "<br>\n",
        "onde: p é a probabilidade do sucesso ocorrer\n",
        "- exemplos:\n",
        "    - jogada de uma moeda observando se deu cara ou coroa\n",
        "    - jogada de um dado e observação da face de cima"
      ]
    },
    {
      "cell_type": "markdown",
      "metadata": {
        "id": "MVISQXPhWf2G"
      },
      "source": [
        "#### Distribuição Binomial"
      ]
    },
    {
      "cell_type": "markdown",
      "metadata": {
        "id": "u9UloPkgWrTA"
      },
      "source": [
        "- número de sucessos em n tentativas\n",
        "- é a repetição de n experimentos de Bernoulli\n",
        "\n",
        "$$\n",
        "f(x) = {n \\choose x}p^x(1-p)^{n-x}\n",
        "$$\n",
        "\n",
        "onde: <br>\n",
        "$n$ é o número de tentativas \\\\\n",
        "$x$ é o número de sucessos \\\\\n",
        "$p$ é a probabilidade de sucesso\n"
      ]
    },
    {
      "cell_type": "markdown",
      "metadata": {
        "id": "kej4VUA9Zv3L"
      },
      "source": [
        "Exemplo: sabendo que a probabilidade de sucesso ($p$) é 50% \n",
        "\n",
        "Ao passar 10 ($n$) clientes em nossa loja, qual a probabilidade de realizarmoos duas ($x$) vendas?\n",
        "\n",
        "$$\n",
        "f(x) = {10 \\choose 2}0.5^2(1-0.5)^{10-2} \\\\\n",
        "f(x) = 0.0439\n",
        "$$ "
      ]
    },
    {
      "cell_type": "markdown",
      "metadata": {
        "id": "jD8sqfLoh5XW"
      },
      "source": [
        "##### Análise Combinatória"
      ]
    },
    {
      "cell_type": "markdown",
      "metadata": {
        "id": "n32H7oDjiARJ"
      },
      "source": [
        "se $n$ e $x$ são inteiros positivos $(n \\ge x)$, então combinações de $n$ elementos $x$ a $x$ é:\n",
        "$$\n",
        "{n \\choose x} = \\frac{n!}{x!(n - x)!}\n",
        "$$\n",
        "\n",
        "Exemplo:\n",
        "$$\n",
        "{10 \\choose 2} = \\frac{10!}{2! (10-2)!} =\n",
        "$$\n",
        "\n",
        "$$\n",
        "= \\frac{10*9*8*7*...*1}{(2*1) * (8*7*6*...*1)}\n",
        "$$\n",
        "\n",
        "$$\n",
        "{10 \\choose 2} = 45\n",
        "$$\n"
      ]
    },
    {
      "cell_type": "markdown",
      "metadata": {
        "id": "-otijk7oj64g"
      },
      "source": [
        "#### Distribuição Geométrica"
      ]
    },
    {
      "cell_type": "markdown",
      "metadata": {
        "id": "Lb_OYv7BkG-D"
      },
      "source": [
        "- número de tentativas até o primeiro sucesso\n",
        "$$f(x) = (1-p)^{x-1}*p$$\n",
        "\n",
        "onde:\n",
        "$x$ é o número de tentativas\n",
        "$p$ é a probabilidade de sucesso"
      ]
    },
    {
      "cell_type": "markdown",
      "metadata": {
        "id": "s7tkGO4Zkdmz"
      },
      "source": [
        "Exemplo: sabendo que a probabilidade de sucesso $p$ é 50%,\n",
        "\n",
        "Qual a probabilidade da primeira venda ocorrer quando o quinto $x$ cliente entrar na loja?\n",
        "\n",
        "$$f(x) = (1 - 0.5)^{5-1} * 0.5$$\n",
        "$$f(x) = 0.0156$$"
      ]
    },
    {
      "cell_type": "markdown",
      "metadata": {
        "id": "oJdB-rQzlTZ1"
      },
      "source": [
        "#### Distribuição Binomial Negativa"
      ]
    },
    {
      "cell_type": "markdown",
      "metadata": {
        "id": "l2fsW6JtlYcC"
      },
      "source": [
        "- é uma generalização da distribuição geométrica\n",
        "- número de tentativa até quee uma quantidade de sucessos ocorra\n",
        "\n",
        "$$\n",
        "f(x) = {{x - 1} \\choose {r - 1}} (1 - p) ^ {x-r} * p ^ {r}\n",
        "$$\n",
        "\n",
        "onde:\n",
        "\n",
        "$r$ é a quantidade de sucessos\n",
        "\n",
        "$x$ é o número de tentativas\n",
        "\n",
        "$p$ é a probabilidade de sucesso"
      ]
    },
    {
      "cell_type": "markdown",
      "metadata": {
        "id": "PuffnfktmQSq"
      },
      "source": [
        "Exemplo:\n",
        "\n",
        "Sabendo que a probabilidade de sucesso $p$ é 50%, \n",
        "\n",
        "Qual a probabilidade de ter que entrar 8 ($x$) clientes até que a segunda ($r$) venda ocorra?\n",
        "\n",
        "$$\n",
        "f(x) = {{8  - 1} \\choose {2 - 1}}(1-0.5) ^ {8-2} * 0.5 ^ 2\n",
        "$$\n",
        "\n",
        "$$\n",
        "f(x) = 0.0351\n",
        "$$"
      ]
    },
    {
      "cell_type": "markdown",
      "metadata": {
        "id": "XvsjXfuKnN8a"
      },
      "source": [
        "#### Distribuição de Poisson"
      ]
    },
    {
      "cell_type": "markdown",
      "metadata": {
        "id": "Ydc-PK0unR8l"
      },
      "source": [
        "- expressa a probabilidade de um evento ou uma série de eventos ocorrerem em um determinado período de tempo\n",
        "\n",
        "$$\n",
        "f(x) = \\frac{e ^ {-\\lambda} * \\lambda ^ x}{x!}\n",
        "$$\n",
        "\n",
        "Onde:\n",
        "\n",
        "$e$ = 2.71 (constante de Euler)\n",
        "\n",
        "$x!$ é o fatorial de número de vezes que o evento ocorre\n",
        "\n",
        "$\\lambda$ é o número de ocorrências de um evento em um intervalo de tempo\n"
      ]
    },
    {
      "cell_type": "markdown",
      "metadata": {
        "id": "s8aEpT7UoPBl"
      },
      "source": [
        "Exemplo:\n",
        "\n",
        "Uma loja recebe em média 6($\\lambda$) clientes por minuto.\n",
        "\n",
        "Qual a probabilidade de que 5 ($x$) clientes entrem em um minuto\n",
        "\n",
        "$$\n",
        "f(x) = \\frac{e ^ {-6} * 6 ^ 5}{5!}\n",
        "$$\n",
        "\n",
        "$$\n",
        "f(x) = 0.1603\n",
        "$$"
      ]
    },
    {
      "cell_type": "markdown",
      "metadata": {
        "id": "X8UCvxR1pPim"
      },
      "source": [
        "Exemplo 2:\n",
        "\n",
        "Uma loja recebe em média, 6 ($\\lambda$) clientes por minuto.\n",
        "\n",
        "Qual a probabilidade de que até 2 ($x$) clientes entrem em um minuto?\n",
        "\n",
        "$$\n",
        "P(x\\le2) = \\\\ \n",
        "P(x=0) + P(x=1) + P(x=2) = \\\\\n",
        "\\frac{e^{6}6 ^ {0}}{0!} + \\frac{e^{6}6 ^ {1}}{1!} + \\frac{e^{6}6 ^ {2}}{2!} = \\\\\n",
        "0.002479 + 0.014873 + 0.044618 =  \\\\\n",
        "= 0.0619\n",
        "$$"
      ]
    },
    {
      "cell_type": "markdown",
      "metadata": {
        "id": "-gVQiIL4rCvC"
      },
      "source": [
        "Exemplo 3:\n",
        "\n",
        "Uma loja recebe em média 6 ($\\lambda$) clientes por minuto.\n",
        "\n",
        "Qual a probabilidade de que 3 ($x$) clientes ou mais entrem em um minuto?\n",
        "\n",
        "$$\n",
        "P(x \\ge 3) = \\\\\n",
        "1 - P(x < 3) = \\\\\n",
        "1 - [P(x=0) + P(x=1) + P(x=2)] = \\\\\n",
        "1 - 0.0619 = \\\\\n",
        "= 0.9381\n",
        "$$"
      ]
    },
    {
      "cell_type": "markdown",
      "metadata": {
        "id": "FGgYIjbtt7Ed"
      },
      "source": [
        "## 2.3 - Variáveis Aleatórias Contínuas e Distribuições de Probabilidade Contínuas"
      ]
    },
    {
      "cell_type": "markdown",
      "metadata": {
        "id": "D88hNEvLuLxw"
      },
      "source": [
        "Nesta aula:\n",
        "- Variáveis Aleatórias Contínuas\n",
        "- Distribuições Contínuas"
      ]
    },
    {
      "cell_type": "markdown",
      "metadata": {
        "id": "IDctpplivHTU"
      },
      "source": [
        "### Variáveis Aleatórias Contínuas"
      ]
    },
    {
      "cell_type": "markdown",
      "metadata": {
        "id": "QIL1PblDvW8F"
      },
      "source": [
        "- assume um número infinito incontável de valores\n",
        "- geralmente oriundas de processos de medição\n",
        "\n",
        "- exemplos:\n",
        "    - tempo das ligações que um call center recebe por dia\n",
        "    - valor que os clientes compram em uma loja em reais (R$)"
      ]
    },
    {
      "cell_type": "markdown",
      "metadata": {
        "id": "MD-5Nwd2v7Ni"
      },
      "source": [
        "### Distribuições Contínuas"
      ]
    },
    {
      "cell_type": "markdown",
      "metadata": {
        "id": "k_KApeja3CyT"
      },
      "source": [
        "#### Distribuição Normal"
      ]
    },
    {
      "cell_type": "markdown",
      "metadata": {
        "id": "rqUmGIaJ3FiS"
      },
      "source": [
        "- é uma das distribuições mais importantes\n",
        "- aspecto simétrico em torno da média\n",
        "- forma de sino, curva gaussiana\n",
        "\n",
        "$f(x) = \\frac{1}{\\sigma \\sqrt{2\\pi}} * e^ {-\\frac{(x-\\mu) ^ 2}{2\\sigma ^ 2}}$\n",
        "\n",
        "Onde:\n",
        "\n",
        "$x$ é o valor da variável aleatória\n",
        "\n",
        "$\\mu$ é a média\n",
        "\n",
        "$\\sigma$ é o desvio padrão\n",
        "\n",
        "$\\pi$ = 3.14\n",
        "\n",
        "$e$ = 2.71...\n",
        "\n",
        "- 68% dos dados entre $(\\mu - \\sigma)$ e $(\\mu + \\sigma)$\n",
        "- 95% dos dados entre $(\\mu - 2\\sigma)$ e $(\\mu + 2\\sigma)$\n",
        "- 99.7% dos dados entre $(\\mu - 3\\sigma)$ e $(\\mu + 3\\sigma)$\n",
        "<br><br>\n",
        "\n",
        "- pode ser usada na identificação de outliers"
      ]
    },
    {
      "cell_type": "markdown",
      "metadata": {
        "id": "Ndge9L0g5kPQ"
      },
      "source": [
        "Exemplo: \n",
        "\n",
        "Suponha que a distribuição dos salários dos funcionários siga uma distribuição normal com média $\\mu$ = 2.500 e desvio padrão $\\sigma$ = 170\n",
        "\n",
        "Dizemos que a variável: $ salario \\sim N (\\mu=2.500, \\sigma=170)$\n",
        "\n",
        "- Qual a probabilidade de um funcionário ter salário entre 2.400 e 2.600?\n",
        "\n",
        "$P(2.400 \\le x \\le 2.600) = 0.4436$ \n",
        "\n",
        "- Qual a probabilidade de um funcionário teer salário acima de 2.600?\n",
        "\n",
        "$P(x \\ge 2.600) = 0.2781$"
      ]
    },
    {
      "cell_type": "markdown",
      "metadata": {
        "id": "QTV_KHmZ8iCa"
      },
      "source": [
        "#### Distribuição Normal Padrão (Distribuição Z)"
      ]
    },
    {
      "cell_type": "markdown",
      "metadata": {
        "id": "1o_SNY0W8owC"
      },
      "source": [
        "- é um caso especial da distribuição normal\n",
        "- se uma variável aleatória segue uma distribuição normal, uma transformação (chamada de padronização) é aplicada de modo que essa variável tenha média zero e desvio padrão unitário\n",
        "$X \\sim Z (\\mu=0, \\sigma=1)$"
      ]
    },
    {
      "cell_type": "markdown",
      "metadata": {
        "id": "BJjBte6G9JCW"
      },
      "source": [
        "Ainda no exemplo anterior da variável $salario \\sim N (\\mu=2.500, \\sigma=170)$, como ficaria o salário padronizado de um indivíduo que recebe 2.600?\n",
        "\n",
        "$$\n",
        "z = \\frac{x - \\mu}{\\sigma} = \\\\\n",
        "z = \\frac{(2600 - 2500)}{170} = \\\\\n",
        "z = 0.5882\n",
        "$$"
      ]
    },
    {
      "cell_type": "code",
      "metadata": {
        "id": "KF2WZlr6ukBq",
        "colab": {
          "base_uri": "https://localhost:8080/",
          "height": 34
        },
        "outputId": "a62f24f6-099c-426a-89b2-3676273fbb0b"
      },
      "source": [
        "# no R:\n",
        "pnorm(2600, 2500, 170)"
      ],
      "execution_count": null,
      "outputs": [
        {
          "output_type": "display_data",
          "data": {
            "text/plain": [
              "[1] 0.7218128"
            ],
            "text/latex": "0.721812814786547",
            "text/markdown": "0.721812814786547",
            "text/html": [
              "0.721812814786547"
            ]
          },
          "metadata": {}
        }
      ]
    },
    {
      "cell_type": "code",
      "metadata": {
        "colab": {
          "base_uri": "https://localhost:8080/",
          "height": 34
        },
        "id": "vI1oz1t0pFAn",
        "outputId": "17f26dbd-c64b-4969-def5-8e80489e9bff"
      },
      "source": [
        "# ou\n",
        "pnorm(0.5882)"
      ],
      "execution_count": null,
      "outputs": [
        {
          "output_type": "display_data",
          "data": {
            "text/plain": [
              "[1] 0.721801"
            ],
            "text/latex": "0.721800971303318",
            "text/markdown": "0.721800971303318",
            "text/html": [
              "0.721800971303318"
            ]
          },
          "metadata": {}
        }
      ]
    },
    {
      "cell_type": "markdown",
      "metadata": {
        "id": "b7zr5hU_pV8x"
      },
      "source": [
        "$P(salario < 2600) = \\\\\n",
        "= pnorm(2600, 2500, 170) = \\\\\n",
        "= 0.7218\n",
        "$\n",
        "<br><br>\n",
        "ou seja\n",
        "<br><br>\n",
        "$\n",
        "P(salario \\ge 2600) = \\\\\n",
        "= 1 - 0.7218 \\\\\n",
        "= 0.2781\n",
        "$"
      ]
    },
    {
      "cell_type": "markdown",
      "metadata": {
        "id": "rFvWlV7kqkUz"
      },
      "source": [
        "#### Distribuição F de Fisher-snedecor"
      ]
    },
    {
      "cell_type": "markdown",
      "metadata": {
        "id": "CC4zB1-uqpO6"
      },
      "source": [
        "- é uma distribuição positivamente assimétrica\n",
        "- não admite valores negativos\n",
        "- geralmente utilizada para **testar variâncias**\n",
        "- depende de 2 parâmetros chamados de graus de liberdade\n",
        "<br><br>\n",
        "\n",
        "se uma variável aleatória X, segue uma distribuição F com v1 e v2 graus liberdades, então dizemos que:\n",
        "$X \\sim F(v1, v2)$\n"
      ]
    },
    {
      "cell_type": "markdown",
      "metadata": {
        "id": "U9hNIC6Kris_"
      },
      "source": [
        "#### Distribuição t de Student"
      ]
    },
    {
      "cell_type": "markdown",
      "metadata": {
        "id": "ncCSL1LrrlSk"
      },
      "source": [
        "- é simétrica e semelhante à curva normal padrão\n",
        "- depende de um único parâmetro, que também é um grau de liberdade\n",
        "- é utilizada para **testar médias**\n",
        "<br><br>\n",
        "se uma variável aleatória X segue uma distribuição $t$ com $v$ grau de liberdade, então dizemos que: $X \\sim t(v)$"
      ]
    },
    {
      "cell_type": "markdown",
      "metadata": {
        "id": "3D2TUr8ltDPx"
      },
      "source": [
        "#### Distribuição Qui-Quadrado"
      ]
    },
    {
      "cell_type": "markdown",
      "metadata": {
        "id": "chdLGvjUtGe7"
      },
      "source": [
        "- o quadrado de uma variável aleatória com distribuição normal padrão é uma qui-quadrado\n",
        "- frequentemente utilizado para **testar associação entre variáveis categóricas**\n",
        "<br><br>\n",
        "\n",
        "dizemos que variável aleatória contínua, com valores positivos, tem uma distribuição qui-quadrado com v graus de liberdade\n",
        "$X \\sim \\chi ^ 2(v)$"
      ]
    },
    {
      "cell_type": "markdown",
      "metadata": {
        "id": "-ZIaAG56ufer"
      },
      "source": [
        "## 2.4 - Estatística Computacional - Probabilidades com R"
      ]
    },
    {
      "cell_type": "markdown",
      "metadata": {
        "id": "NNdsDVYZu6TL"
      },
      "source": [
        "R Notebook: 2.4 - Estatística Computacional - Probabilidades com R.Rmd"
      ]
    },
    {
      "cell_type": "markdown",
      "metadata": {
        "id": "8CaMVO2tveI4"
      },
      "source": [
        "# Capítulo 3 - Intervalo de Confiança"
      ]
    },
    {
      "cell_type": "markdown",
      "metadata": {
        "id": "GsdHsSN4JzRq"
      },
      "source": [
        "## 3.1 - Intervalos de Confiança"
      ]
    },
    {
      "cell_type": "markdown",
      "metadata": {
        "id": "nwuraltPJ44P"
      },
      "source": [
        "Nesta aula:\n",
        "- Intervalo de Confiança\n",
        "- Teorema Central do Limite"
      ]
    },
    {
      "cell_type": "markdown",
      "metadata": {
        "id": "VCPVoXoRKPu5"
      },
      "source": [
        "**Estimativa Pontual vs. Estimativa Intervalar**\n",
        "\n",
        "Temos 95% de \"chance\" do intervalo conter o verdadeiro valor da média populacional.\n",
        "\n",
        "Em outras palavras, se produzirmos diversos intervalos de confiança provenientes de diferentes amostras independentes de mesmo tamanho, podemos esperar que aproximadamente 95% destes intervalos devem conter o verdadeiro valor da média populacional."
      ]
    },
    {
      "cell_type": "markdown",
      "metadata": {
        "id": "v8tN-bzXKKTT"
      },
      "source": [
        "### Teorema Central do Limite"
      ]
    },
    {
      "cell_type": "markdown",
      "metadata": {
        "id": "SwX5wmWmwi1C"
      },
      "source": [
        "- (TCL) afirma que independentemente de qual seja a distribuição original de X, a distribuição de $\\bar{x}_n$ se aproxima da Distribuição Normal a medida que $n$ cresce"
      ]
    },
    {
      "cell_type": "code",
      "metadata": {
        "id": "53s5-9dqpO_U",
        "colab": {
          "base_uri": "https://localhost:8080/",
          "height": 437
        },
        "outputId": "d2b77663-d698-4379-d188-894c73c248f8"
      },
      "source": [
        "va <- rexp(300, rate=1/3)\n",
        "hist(va)\n",
        "# histograma com 300 observações geradas aleatoriamente seguindo uma distribuição exponencial"
      ],
      "execution_count": null,
      "outputs": [
        {
          "output_type": "display_data",
          "data": {
            "image/png": "[encoded data removed]",
            "text/plain": [
              "Plot with title “Histogram of va”"
            ]
          },
          "metadata": {
            "image/png": {
              "width": 420,
              "height": 420
            }
          }
        }
      ]
    },
    {
      "cell_type": "code",
      "metadata": {
        "colab": {
          "base_uri": "https://localhost:8080/",
          "height": 437
        },
        "id": "Bnir_zCQyeZx",
        "outputId": "c2b6bb7e-dfe3-410d-8d2b-ac1135848110"
      },
      "source": [
        "n <- 30\n",
        "media <- c()\n",
        "\n",
        "for (i in 1:1000) {\n",
        "    subamostra <- sample(va, size = n, replace = F)\n",
        "    media[i] <- mean(subamostra)\n",
        "}\n",
        "\n",
        "hist(media, main=paste('n =', n), prob=T)\n",
        "lines(density(media),lwd=3, col='blue')"
      ],
      "execution_count": null,
      "outputs": [
        {
          "output_type": "display_data",
          "data": {
            "image/png": "[encoded data removed]",
            "text/plain": [
              "Plot with title “n = 30”"
            ]
          },
          "metadata": {
            "image/png": {
              "width": 420,
              "height": 420
            }
          }
        }
      ]
    },
    {
      "cell_type": "markdown",
      "metadata": {
        "id": "KzSCt1BSz5-k"
      },
      "source": [
        "## 3.2 - Intervalo de Confiança para Média"
      ]
    },
    {
      "cell_type": "markdown",
      "metadata": {
        "id": "RstT0mUm0B8N"
      },
      "source": [
        "Vendas:\n",
        "\n",
        "$\\bar{x} = 30$ \\\\\n",
        "$\\sigma = 7.31$  **(desvio padrão populacional)** \\\\\n",
        "$n= 30$\n",
        "\n",
        "Intervalo de Confiança de 95% para essa média, utilizando a **Distribuição Z** (normal padrão):\n",
        "\n",
        "$$\n",
        "IC_{95\\%} = \\bar{x} - Z * \\frac{\\sigma}{\\sqrt{n}} < \\mu > \\bar{x} + Z * \\frac{\\sigma}{\\sqrt{n}}\n",
        "$$\n",
        "<br>\n",
        "\n",
        "$Z$ é o quantil da Distribuição Z\n",
        "<br><br>\n",
        "\n",
        "$$\n",
        "IC_{95\\%} = {30} - 1.96 * \\frac{7.31}{\\sqrt{30}} < \\mu > {30} + 1.96 * \\frac{7.31}{\\sqrt{30}}\n",
        "$$\n",
        "<br><br>\n",
        "\n",
        "$IC_{95\\%} = 30 - 2.6158 < \\mu 30 + 2.6158$\n",
        "<br><br>\n",
        "\n",
        "$IC_{95\\%} =27.38 < \\mu > 32.61$\n"
      ]
    },
    {
      "cell_type": "markdown",
      "metadata": {
        "id": "hsv8FbRV3reh"
      },
      "source": [
        "#### Quantis"
      ]
    },
    {
      "cell_type": "markdown",
      "metadata": {
        "id": "wFXWykjn3tcy"
      },
      "source": [
        "- são pontos estabelecidos em intervalos regulares, a partir da função distribuição de probabilidade de uma variável aleatória.\n",
        "- dividem os dados ordenados em subconjuntos de dados de dimensão essencialmente igual\n",
        "- níveis de confiança mais usados são: 80%, 90%, 95% e 99%"
      ]
    },
    {
      "cell_type": "code",
      "metadata": {
        "colab": {
          "base_uri": "https://localhost:8080/",
          "height": 34
        },
        "id": "Pi_pJCcczQCM",
        "outputId": "450e78e2-b4da-4f0b-8929-3c8eff474ef3"
      },
      "source": [
        "ic <- 0.99  #(confiança de 99%)\n",
        "alfa <- 1-ic\n",
        "area <- 1-(alfa/2)\n",
        "qnorm(area)  \n",
        "# resultado é o Z"
      ],
      "execution_count": null,
      "outputs": [
        {
          "output_type": "display_data",
          "data": {
            "text/plain": [
              "[1] 2.575829"
            ],
            "text/latex": "2.5758293035489",
            "text/markdown": "2.5758293035489",
            "text/html": [
              "2.5758293035489"
            ]
          },
          "metadata": {}
        }
      ]
    },
    {
      "cell_type": "code",
      "metadata": {
        "colab": {
          "base_uri": "https://localhost:8080/",
          "height": 34
        },
        "id": "fB4sfXid4rWJ",
        "outputId": "c197d0e5-27b1-4028-98a0-5b5f5dd95598"
      },
      "source": [
        "ic <- 0.8  #(confiança de 80%)\n",
        "alfa <- 1-ic\n",
        "area <- 1-(alfa/2)\n",
        "qnorm(area)\n",
        "# resultado é o Z"
      ],
      "execution_count": null,
      "outputs": [
        {
          "output_type": "display_data",
          "data": {
            "text/plain": [
              "[1] 1.281552"
            ],
            "text/latex": "1.2815515655446",
            "text/markdown": "1.2815515655446",
            "text/html": [
              "1.2815515655446"
            ]
          },
          "metadata": {}
        }
      ]
    },
    {
      "cell_type": "markdown",
      "metadata": {
        "id": "6rbPU-Q75ohC"
      },
      "source": [
        "#### Intervalo de Confiança utilizando t de Student"
      ]
    },
    {
      "cell_type": "markdown",
      "metadata": {
        "id": "mulsXMa05u4p"
      },
      "source": [
        "Intervalo de Confiança de 95% para essa média, utilizando a distribuição **t de Student**\n",
        "\n",
        "$\\bar{x} = 30$ \\\\\n",
        "$S = 7.31$ **(desvio padrão da amostra)** \\\\\n",
        "$n= 29$\n",
        "\n",
        "$$\n",
        "IC_{95\\%} = \\bar{x} - t * \\frac{s}{\\sqrt{n}} < \\mu > \\bar{x} + t * \\frac{s}{\\sqrt{n}}\n",
        "$$\n",
        "<br><br>\n",
        "$t$ é o quantil da Distribuiçao $t$ com $n-1$ graus de liberdade\n",
        "<br>\n",
        "\n",
        "$$\n",
        "IC_{95\\%} = {30} - 2.0452 * \\frac{7.31}{\\sqrt{29}} <\\mu > {30} + 2.0452 * \\frac{7.31}{\\sqrt{29}}\n",
        "$$\n",
        "<br><br>\n",
        "\n",
        "$$\n",
        "IC_{95\\%} = 30 - 2.72 < \\mu > 30 + 2.72\n",
        "$$\n",
        "<br><br>\n",
        "\n",
        "$$\n",
        "IC_{95\\%} = -27.27 < \\mu > 32.72\n",
        "$$"
      ]
    },
    {
      "cell_type": "code",
      "metadata": {
        "colab": {
          "base_uri": "https://localhost:8080/",
          "height": 34
        },
        "id": "7rlao_W45QeA",
        "outputId": "70905be5-c5aa-4375-ed5f-d92aae3e90e2"
      },
      "source": [
        "ic <- 0.95\n",
        "alfa <- 1-ic\n",
        "area <- 1-(alfa/2)\n",
        "qt(area, df=n-1)"
      ],
      "execution_count": null,
      "outputs": [
        {
          "output_type": "display_data",
          "data": {
            "text/plain": [
              "[1] 2.04523"
            ],
            "text/latex": "2.0452296421327",
            "text/markdown": "2.0452296421327",
            "text/html": [
              "2.0452296421327"
            ]
          },
          "metadata": {}
        }
      ]
    },
    {
      "cell_type": "markdown",
      "metadata": {
        "id": "OVmMObLiNvH6"
      },
      "source": [
        "### Conclusão"
      ]
    },
    {
      "cell_type": "markdown",
      "metadata": {
        "id": "tooL_owVNzHm"
      },
      "source": [
        "- Intervalo de Confiança para Média, utilizando a Distribuição Z : quando temos o desvio padrão populacional\n",
        "\n",
        "- Intervalo de Confiança para Média, utilizando a distribuição t de Student : quando não temos o desvio padrão populacional (temos o desvio padrão amostral)"
      ]
    },
    {
      "cell_type": "markdown",
      "metadata": {
        "id": "CZVx6byKONlk"
      },
      "source": [
        "## 3.3 - Intervalo de Confiança para Proporção"
      ]
    },
    {
      "cell_type": "markdown",
      "metadata": {
        "id": "7p_SCBfZOVO7"
      },
      "source": [
        "Devoluções de produtos:\n",
        "\n",
        "devoluções = 138\n",
        "\n",
        "$n$ = 500\n",
        "\n",
        "proporção de devoluções = 27,6%"
      ]
    },
    {
      "cell_type": "markdown",
      "metadata": {
        "id": "vV9USerXPBDD"
      },
      "source": [
        "Intervalo de Confiança de 95% para essa proporção, utilizando a **Distribuição Z** (normal padrão):\n",
        "\n",
        "$$\n",
        "IC_{1-\\alpha} = \\hat{p} - z * \\sqrt{\\frac{\\hat{p} {(1-\\hat{p})}}{n}} < p > \\hat{p} + z * \\sqrt{\\frac{\\hat{p} {(1-\\hat{p})}}{n}}\n",
        "$$\n",
        "\n",
        "Onde:\n",
        "$\\hat{p}$ é a proporção amostral\n",
        "$n$ é o tamanho da amostra\n",
        "$z$ é o quantil da distribuição Z para nível $1 - \\alpha$ de confiança"
      ]
    },
    {
      "cell_type": "code",
      "metadata": {
        "colab": {
          "base_uri": "https://localhost:8080/",
          "height": 34
        },
        "id": "MGdXEPo_7QR8",
        "outputId": "f1edcc88-7888-426c-8dc6-b646c27b0381"
      },
      "source": [
        "ic <- 0.8\n",
        "alfa <- 1 - ic\n",
        "area <- 1-(alfa/2)\n",
        "qnorm(area)"
      ],
      "execution_count": null,
      "outputs": [
        {
          "output_type": "display_data",
          "data": {
            "text/plain": [
              "[1] 1.281552"
            ],
            "text/latex": "1.2815515655446",
            "text/markdown": "1.2815515655446",
            "text/html": [
              "1.2815515655446"
            ]
          },
          "metadata": {}
        }
      ]
    },
    {
      "cell_type": "markdown",
      "metadata": {
        "id": "swQHZ6zVSNYn"
      },
      "source": [
        "## 3.4 - Intervalo de Confiança por Bootstrap"
      ]
    },
    {
      "cell_type": "markdown",
      "metadata": {
        "id": "wCuKVXmHWfPe"
      },
      "source": [
        "variáveis que não seguem a distribuição normal"
      ]
    },
    {
      "cell_type": "markdown",
      "metadata": {
        "id": "vgWuQrPQSnpL"
      },
      "source": [
        "### Algoritmo do Bootstrap"
      ]
    },
    {
      "cell_type": "markdown",
      "metadata": {
        "id": "5MC-ZkTCS63o"
      },
      "source": [
        "1. extrair uma subamostra aleatória de tamanho $n$, com reposição\n",
        "2. calcular a média da subamostra e registrar\n",
        "3. repetir passos 1 e 2 $R$ vezes"
      ]
    },
    {
      "cell_type": "code",
      "metadata": {
        "id": "9V2scFFMUJss"
      },
      "source": [
        ""
      ],
      "execution_count": null,
      "outputs": []
    },
    {
      "cell_type": "code",
      "metadata": {
        "id": "RLC_MVlRR4p_"
      },
      "source": [
        "for (i in 1:1000) {\n",
        "    reamostra <- sample(dados$Preco_Cafe, size = 20, replace = T)\n",
        "    medias[i] <- mean(reamostra)\n",
        "}"
      ],
      "execution_count": null,
      "outputs": []
    },
    {
      "cell_type": "code",
      "metadata": {
        "id": "JOdGt6s0Ul1K"
      },
      "source": [
        "# IC 95%\n",
        "quantile(medias, probs = c(0.025, 0.975)) # valores entre 2.5% e 97.5%"
      ],
      "execution_count": null,
      "outputs": []
    },
    {
      "cell_type": "code",
      "metadata": {
        "id": "2M1K7HdSVv9M"
      },
      "source": [
        "# IC 90%\n",
        "quantile(medias, probs = c(0.05, 0.95)) # valores entre 5% e 95%"
      ],
      "execution_count": null,
      "outputs": []
    },
    {
      "cell_type": "markdown",
      "metadata": {
        "id": "WJFBVEWKV3Nx"
      },
      "source": [
        "## 3.5 - Estatística Computacional - Intervalos de Confiança com R"
      ]
    },
    {
      "cell_type": "markdown",
      "metadata": {
        "id": "GdfEGCjvW2qo"
      },
      "source": [
        "R Notebook - 3.5 - Estatística Computacional - Intervalos de Confiança com R"
      ]
    },
    {
      "cell_type": "markdown",
      "metadata": {
        "id": "GUmcaEhtopVJ"
      },
      "source": [
        "# Capítulo 4 - Teste de Hipótese - Parte 1"
      ]
    },
    {
      "cell_type": "markdown",
      "metadata": {
        "id": "sajjx7p_ouLM"
      },
      "source": [
        "## 4.1 - Teste de Hipóteses"
      ]
    },
    {
      "cell_type": "markdown",
      "metadata": {
        "id": "AKhF5cCXo0d5"
      },
      "source": [
        "Nesta aula:\n",
        "- O que é um teste de hipótese?\n",
        "- Passos para condução de um Teste de Hipótese\n",
        "- Testes Unilaterais"
      ]
    },
    {
      "cell_type": "markdown",
      "metadata": {
        "id": "WNvshuPNxqvJ"
      },
      "source": [
        "### O que é um teste de hipótese?"
      ]
    },
    {
      "cell_type": "markdown",
      "metadata": {
        "id": "9CW9JdXYxujk"
      },
      "source": [
        "- é um procedimento estatístico\n",
        "- por meio da teoria das probabilidades, auxilia na tomada de decisão no sentido de rejeitar ou não, hipóteses em um experimento científico"
      ]
    },
    {
      "cell_type": "markdown",
      "metadata": {
        "id": "fiy6dxWF6Wao"
      },
      "source": [
        "### Passos para condução de um Teste de Hipóteses"
      ]
    },
    {
      "cell_type": "markdown",
      "metadata": {
        "id": "fzReh-yH6d9V"
      },
      "source": [
        "#### Contexto"
      ]
    },
    {
      "cell_type": "markdown",
      "metadata": {
        "id": "3_AUy4YU6nYT"
      },
      "source": [
        "Sabemos que quando o produto está na posição A da gôndola, vende em média $\\mu = R\\$140$ com $\\sigma = R\\$27$\n",
        "<br>\n",
        "\n",
        "Estou cética. Vou conduzir um experimento. Deixarei o produto na posição A por $n$ = 15 dias, e coletarei a média amostral"
      ]
    },
    {
      "cell_type": "markdown",
      "metadata": {
        "id": "AWaU3dSJ7h7U"
      },
      "source": [
        "Após 15 dias, os resultados observados foram:\n",
        "\n",
        "$\\bar{x}$ = 134\n",
        "\n",
        "$\\sigma$ = 27\n",
        "\n",
        "$n$ = 15\n",
        "<br>\n",
        "\n",
        "Baseado nos resultados dessa amostra, você rejeita ou não rejeita a hipótese afirmada no inícioo do enunciado, de que a média quando o produto está na posição A é de R$ 140?\n"
      ]
    },
    {
      "cell_type": "markdown",
      "metadata": {
        "id": "ZTajnEQr8dYP"
      },
      "source": [
        "#### Passo 1: Definir a Hipótese nula e a Hipótese Alternativa"
      ]
    },
    {
      "cell_type": "markdown",
      "metadata": {
        "id": "dE_I3IV69mOT"
      },
      "source": [
        "**Hipótese Nula ($H_0$)** - É assumida como verdadeira na construção do teste\n",
        "\n",
        "**Hipótese Alternativa ($H_1$)** - é considerada verdadeira quando não há evidências para sustentar a hipótese nula\n",
        "\n",
        "$H_0$:  $\\mu$ = 140\n",
        "\n",
        "$H_1$:  $\\mu$ $\\ne$ 140"
      ]
    },
    {
      "cell_type": "markdown",
      "metadata": {
        "id": "U05ecIpv-7yH"
      },
      "source": [
        "#### Passo 2: Definir o Nível de Confiança e Significância"
      ]
    },
    {
      "cell_type": "markdown",
      "metadata": {
        "id": "mUFXcQmH_Gm9"
      },
      "source": [
        "**Nível de Confiança:** 90%, 95% ou 99%\n",
        "\n",
        "**Nível de significância $\\alpha$:** ao assumir o nível de confiança de 95%, a probabilidade de rejeitarmos a Hipótese Nula sendo que ela é verdadeira é de 5%"
      ]
    },
    {
      "cell_type": "markdown",
      "metadata": {
        "id": "ynlAbURnrne9"
      },
      "source": [
        "**Erro Tipo I:** rejeitar a Hipótese Nula quando ela é verdadeira"
      ]
    },
    {
      "cell_type": "markdown",
      "metadata": {
        "id": "bKptRzS7r0zB"
      },
      "source": [
        "#### Passo 3: Calcular a Estatística de Teste"
      ]
    },
    {
      "cell_type": "markdown",
      "metadata": {
        "id": "uLDLx2K0sAWF"
      },
      "source": [
        "- é um valor calculado a partir de uma amostra de dados\n",
        "- seu valor é usado para decidir se podemos ou não rejeitar a hipótese nula\n",
        "- a natureza do experimento irá direcionar qual distribuição de probabilidade usar"
      ]
    },
    {
      "cell_type": "markdown",
      "metadata": {
        "id": "dH_2yLCqsXQh"
      },
      "source": [
        "neste caso, estamos testando média e temos o desvio padrão da população.\n",
        "portando, adotaremos a distribuição normal padrão para nosso experimento.\n",
        "\n",
        "$$\n",
        "Z_{calculado} = \\frac{(\\bar{x} - \\mu)}{\\frac{\\sigma}{\\sqrt{n}}}\n",
        "$$\n",
        "\n",
        "$$\n",
        "Z_{calculado} = \\frac{(134 - 140)}{\\frac{27}{\\sqrt{15}}}\n",
        "$$\n",
        "\n",
        "$$Z_{calculado} = - 0.8606$$"
      ]
    },
    {
      "cell_type": "markdown",
      "metadata": {
        "id": "Uzp99NY8uXi-"
      },
      "source": [
        "#### Passo 4: Delimitar a Região Crítica"
      ]
    },
    {
      "cell_type": "markdown",
      "metadata": {
        "id": "wrXmb73CubSt"
      },
      "source": [
        "- baseado no nível de significância $\\alpha$ que adotamos para o teste, iremos delimitar a região crítica\n",
        "- iremos rejeitar $H_0$ se nossa estatística de  teste se encontrar na região crítica"
      ]
    },
    {
      "cell_type": "code",
      "metadata": {
        "colab": {
          "base_uri": "https://localhost:8080/",
          "height": 34
        },
        "id": "esfiH5tqXKQ4",
        "outputId": "de3df58d-1d9d-48b0-d808-a8540dd6ac7c"
      },
      "source": [
        "# região crítica bilateral na curva normal padrão para α = 5%\n",
        "\n",
        "\n",
        "ic <- 0.95\n",
        "alfa <- 1 - ic\n",
        "area <- 1-(alfa/2)\n",
        "qnorm(area)  #quantil"
      ],
      "execution_count": null,
      "outputs": [
        {
          "output_type": "display_data",
          "data": {
            "text/plain": [
              "[1] 1.959964"
            ],
            "text/latex": "1.95996398454005",
            "text/markdown": "1.95996398454005",
            "text/html": [
              "1.95996398454005"
            ]
          },
          "metadata": {}
        }
      ]
    },
    {
      "cell_type": "markdown",
      "metadata": {
        "id": "X05gnQJTwvpB"
      },
      "source": [
        "##### Zcalculado vs Região crítica (região de rejeição)"
      ]
    },
    {
      "cell_type": "markdown",
      "metadata": {
        "id": "ALViRlaOxUtq"
      },
      "source": [
        ""
      ]
    },
    {
      "cell_type": "markdown",
      "metadata": {
        "id": "RVciBAtxxVOY"
      },
      "source": [
        "#### Passo 5: Obter o valor p"
      ]
    },
    {
      "cell_type": "markdown",
      "metadata": {
        "id": "V42hCL9TxZjt"
      },
      "source": [
        "##### valor p\n",
        "- é a probabilidade de rejeitar a Hipótese Nula quando ela é verdadeira (erro tipo I)\n"
      ]
    },
    {
      "cell_type": "markdown",
      "metadata": {
        "id": "-U9K35jsxlai"
      },
      "source": [
        "ou seja, supondo que o nível de confiança adotado seja 95%, iremos rejeitar $H_0$ caso o valor p seja abaixo de 5% (nível de signifiância)\n",
        "\n",
        "resumindo: rejeitaremos a Hipótese Nula se o valor p for menor do que o nível de significância ($\\alpha$)"
      ]
    },
    {
      "cell_type": "code",
      "metadata": {
        "colab": {
          "base_uri": "https://localhost:8080/",
          "height": 34
        },
        "id": "VpLHh8TtvdWe",
        "outputId": "5abe87c7-75bc-46ca-c369-2cf29413f705"
      },
      "source": [
        "pnorm(0.86) - pnorm(-0.86)\n",
        "\n",
        "# probabilidade de 61% de estarmos errados ao rejeitarmos o H0\n",
        "# então não rejeita H0"
      ],
      "execution_count": null,
      "outputs": [
        {
          "output_type": "display_data",
          "data": {
            "text/plain": [
              "[1] 0.610211"
            ],
            "text/latex": "0.610210957496383",
            "text/markdown": "0.610210957496383",
            "text/html": [
              "0.610210957496383"
            ]
          },
          "metadata": {}
        }
      ]
    },
    {
      "cell_type": "markdown",
      "metadata": {
        "id": "NAwMYiO3zG2i"
      },
      "source": [
        "supondo que o nível de confiança adotado seja 95%, iremoos rejeitar $H_0$ caso o valor $p$ seja abaixo de 5% (nível de significância)\n",
        "\n",
        "A interpretação final seria:\n",
        "\n",
        "**caso $p \\le 0.05$:**\n",
        "\n",
        "com 95% de confiança, há evidências para rejeitar a hipótese nula\n",
        "\n",
        "ou seja, a média de vendas quando o produto está na posição A é estatisticamente diferente de R$ 140\n",
        "<br><br>\n",
        "\n",
        "**caso $p > 0.05$:**\n",
        "\n",
        "com 95% de confiança, não há evidências para rejeitar a hipótese nula\n",
        "\n",
        "ou seja, a média de vendas quando o produto está na posição A, estatisticamente não é diferente de R$ 140"
      ]
    },
    {
      "cell_type": "markdown",
      "metadata": {
        "id": "kmdS67wS0yE9"
      },
      "source": [
        "#### Rejeitar ou Não Rejeitar $H_0$"
      ]
    },
    {
      "cell_type": "markdown",
      "metadata": {
        "id": "dgwYWsCk045h"
      },
      "source": [
        "já vimos que o $Z_{calculado}$ etá fora da região crítica e consequentemente o valor p é maior do que o nível de significância fixado.\n",
        "\n",
        "com 95% de confiança, não há evidências para rejeitar $H_0$. ou seja, a média de vendas qunado o  produto está na posição A da gôndola é estatisticamente igual a R$ 140"
      ]
    },
    {
      "cell_type": "markdown",
      "metadata": {
        "id": "FaA2TqQp1nEZ"
      },
      "source": [
        "### Teste Unilaterais"
      ]
    },
    {
      "cell_type": "markdown",
      "metadata": {
        "id": "5zv9z5m_1rX1"
      },
      "source": [
        "$H_0$: $\\mu$ = 140\n",
        "<br>\n",
        "\n",
        "- teste unilateral a direita: $H_1$: $\\mu$ > 140\n",
        "- teste unilateral a esquerda: $H_1$: $\\mu$ < 140"
      ]
    },
    {
      "cell_type": "markdown",
      "metadata": {
        "id": "mzruAY5z2tHR"
      },
      "source": [
        "## 4.2 - Avaliando a Normalidade de uma Variável Aleatória"
      ]
    },
    {
      "cell_type": "markdown",
      "metadata": {
        "id": "NRyZmzRn20sE"
      },
      "source": [
        "Nesta aula:\n",
        "- Histograma\n",
        "- QQ-plot\n",
        "- Teste Shapiro-Wilk"
      ]
    },
    {
      "cell_type": "markdown",
      "metadata": {
        "id": "Q5g1ToAU3nio"
      },
      "source": [
        "seja **va1** e **va2** duas variáveis aleatórias, iremos avaliar se seguem uma distribuição normal"
      ]
    },
    {
      "cell_type": "code",
      "metadata": {
        "colab": {
          "base_uri": "https://localhost:8080/",
          "height": 857
        },
        "id": "-z5opItb30eC",
        "outputId": "523621b0-de95-4f24-9f80-ce40373bcddc"
      },
      "source": [
        "# Gerando as variáveis aleatórias\n",
        "va1 <- rnorm(1000, mean = 150, sd= 60)\n",
        "hist(va1)\n",
        "va2 <- rchisq(500, df=3)\n",
        "hist(va2)\n",
        "\n",
        "#Onde:\n",
        "# va1 ~ N($\\mu$ = 150, $\\sigma$ = 60)\n",
        "# va2 ~ X**2(df=3)"
      ],
      "execution_count": null,
      "outputs": [
        {
          "output_type": "display_data",
          "data": {
            "image/png": "[encoded data removed]",
            "text/plain": [
              "Plot with title “Histogram of va1”"
            ]
          },
          "metadata": {
            "image/png": {
              "width": 420,
              "height": 420
            }
          }
        },
        {
          "output_type": "display_data",
          "data": {
            "image/png": "[encoded data removed]",
            "text/plain": [
              "Plot with title “Histogram of va2”"
            ]
          },
          "metadata": {
            "image/png": {
              "width": 420,
              "height": 420
            }
          }
        }
      ]
    },
    {
      "cell_type": "markdown",
      "metadata": {
        "id": "OIQiCixb3PLH"
      },
      "source": [
        "### Histograma"
      ]
    },
    {
      "cell_type": "markdown",
      "metadata": {
        "id": "F4dBRNH23R8V"
      },
      "source": [
        "se o  histograma da variável aleatória for simétrico, é um indício de normalidade"
      ]
    },
    {
      "cell_type": "markdown",
      "metadata": {
        "id": "RDZuPrTU4-Q0"
      },
      "source": [
        "### QQ Plot (Quantile-Quantile Plots)"
      ]
    },
    {
      "cell_type": "markdown",
      "metadata": {
        "id": "komexF-u5Ds_"
      },
      "source": [
        "os pontos devem acompanhar a reta"
      ]
    },
    {
      "cell_type": "code",
      "metadata": {
        "colab": {
          "base_uri": "https://localhost:8080/",
          "height": 437
        },
        "id": "EotPEWpDyHyj",
        "outputId": "77070186-3cd0-4afb-dc5c-3898cd03b121"
      },
      "source": [
        "qqnorm(va1)\n",
        "qqline(va1)"
      ],
      "execution_count": null,
      "outputs": [
        {
          "output_type": "display_data",
          "data": {
            "image/png": "[encoded data removed]",
            "text/plain": [
              "Plot with title “Normal Q-Q Plot”"
            ]
          },
          "metadata": {
            "image/png": {
              "width": 420,
              "height": 420
            }
          }
        }
      ]
    },
    {
      "cell_type": "code",
      "metadata": {
        "colab": {
          "base_uri": "https://localhost:8080/",
          "height": 437
        },
        "id": "FZrdrJK-5NMX",
        "outputId": "67cd4fa4-e4dd-426e-ca8f-7e4bdd2c66d6"
      },
      "source": [
        "qqnorm(va2)\n",
        "qqline(va2)"
      ],
      "execution_count": null,
      "outputs": [
        {
          "output_type": "display_data",
          "data": {
            "image/png": "[encoded data removed]",
            "text/plain": [
              "Plot with title “Normal Q-Q Plot”"
            ]
          },
          "metadata": {
            "image/png": {
              "width": 420,
              "height": 420
            }
          }
        }
      ]
    },
    {
      "cell_type": "markdown",
      "metadata": {
        "id": "tZ1h2AeW5eBp"
      },
      "source": [
        "### Teste Shapiro-Wilk"
      ]
    },
    {
      "cell_type": "markdown",
      "metadata": {
        "id": "hqWtpCWw5jI7"
      },
      "source": [
        "é um teste de hipótese, onde:\n",
        "\n",
        "$H_0$: os dados segueem uma distribuição normal\n",
        "\n",
        "$H_1$: os dados não seguem uma distribuição normal\n",
        "\n",
        "\n",
        "o teste de Shapiro-Walk tem limite de 3000 observações"
      ]
    },
    {
      "cell_type": "code",
      "metadata": {
        "colab": {
          "base_uri": "https://localhost:8080/",
          "height": 102
        },
        "id": "mRpVpeIb5yW7",
        "outputId": "8eedae0d-5ddc-4638-fb69-ad18fbe130eb"
      },
      "source": [
        "shapiro.test(va1)"
      ],
      "execution_count": null,
      "outputs": [
        {
          "output_type": "display_data",
          "data": {
            "text/plain": [
              "\n",
              "\tShapiro-Wilk normality test\n",
              "\n",
              "data:  va1\n",
              "W = 0.9983, p-value = 0.4291\n"
            ]
          },
          "metadata": {}
        }
      ]
    },
    {
      "cell_type": "code",
      "metadata": {
        "colab": {
          "base_uri": "https://localhost:8080/",
          "height": 102
        },
        "id": "x84yyytm5yhD",
        "outputId": "b74f8e8c-89e3-4c21-b36e-826b2b3d4f53"
      },
      "source": [
        "shapiro.test(va2)"
      ],
      "execution_count": null,
      "outputs": [
        {
          "output_type": "display_data",
          "data": {
            "text/plain": [
              "\n",
              "\tShapiro-Wilk normality test\n",
              "\n",
              "data:  va2\n",
              "W = 0.87692, p-value < 2.2e-16\n"
            ]
          },
          "metadata": {}
        }
      ]
    },
    {
      "cell_type": "markdown",
      "metadata": {
        "id": "UI1yZj7g8JBp"
      },
      "source": [
        "## 4.3 - Teste T para diferença de médias em duas amostras independentes"
      ]
    },
    {
      "cell_type": "markdown",
      "metadata": {
        "id": "Dak707q-8QBO"
      },
      "source": [
        "### Contexto\n",
        "H0: quando o produto está na posição B, seu faturamento é igual ao seu faturamento quando está na posição A\n",
        "H1: Quando o produto está na posição B, seu faturamento é diferente de quando está na posição A"
      ]
    },
    {
      "cell_type": "code",
      "metadata": {
        "id": "2YE6S8M453v6"
      },
      "source": [
        "A"
      ],
      "execution_count": null,
      "outputs": []
    }
  ]
}